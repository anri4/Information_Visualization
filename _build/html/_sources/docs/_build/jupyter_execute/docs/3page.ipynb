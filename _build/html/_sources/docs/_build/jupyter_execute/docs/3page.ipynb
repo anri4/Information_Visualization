{
 "cells": [
  {
   "cell_type": "markdown",
   "metadata": {},
   "source": [
    "# Dataset and Preprocessing"
   ]
  },
  {
   "cell_type": "markdown",
   "metadata": {},
   "source": [
    "In order to fuel the debate of minimum wage in the Netherlands, we have gathered different data such as:\n",
    "\n",
    "- Minimum wage data in the Netherlands\n",
    "- Percentages of people working for minimum wage in the Netherlands\n",
    "- Consumer spending in the Netherlands\n",
    "- Unemployment rate in the Netherlands\n",
    "- Minimum wage data worldwide\n",
    "- GDP per capita worldwide\n",
    "\n",
    "For most datasets we removed unnecessary variables and data instances, to ensure the fastest performance when generating the visualization components.\n",
    "\n",
    "## Variable descriptions\n",
    "\n",
    "#### Continuous / Ratio variables\n",
    "\n",
    "- Unemployment Rate (%)\n",
    "- Annual Change\n",
    "- total_jobs\n",
    "- minimum_wage_jobs\n",
    "- percentage_minimum_wage\n",
    "- minimum wage per month (dollar)\n",
    "- minimum wage per hour (dollar)\n",
    "- GDP per capita, PPP (constant 2017 international $)\n",
    "  \n",
    "#### Discrete / Ordinal Variables\n",
    "\n",
    "- ages\n",
    "#### Discrete / Nominal Variables\n",
    "\n",
    "- Entity\n",
    "#### Discrete / Interval Variables\n",
    "\n",
    "- year"
   ]
  }
 ],
 "metadata": {
  "kernelspec": {
   "display_name": "Python 3 (ipykernel)",
   "language": "python",
   "name": "python3"
  },
  "language_info": {
   "codemirror_mode": {
    "name": "ipython",
    "version": 3
   },
   "file_extension": ".py",
   "mimetype": "text/x-python",
   "name": "python",
   "nbconvert_exporter": "python",
   "pygments_lexer": "ipython3",
   "version": "3.10.14"
  },
  "widgets": {
   "application/vnd.jupyter.widget-state+json": {
    "state": {},
    "version_major": 2,
    "version_minor": 0
   }
  }
 },
 "nbformat": 4,
 "nbformat_minor": 4
}