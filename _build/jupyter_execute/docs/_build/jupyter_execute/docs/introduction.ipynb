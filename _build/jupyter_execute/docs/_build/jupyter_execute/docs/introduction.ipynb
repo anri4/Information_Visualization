{
 "cells": [
  {
   "cell_type": "markdown",
   "metadata": {
    "slideshow": {
     "slide_type": ""
    },
    "tags": []
   },
   "source": [
    "# Introduction\n",
    "\n",
    "(Last updated: Jun 12, 2024)\n"
   ]
  },
  {
   "cell_type": "markdown",
   "metadata": {},
   "source": [
    "The discussion about raising the minimum wage in the Netherlands is a hot topic with strong opinions on both sides. Some people believe that increasing the minimum wage would help workers by giving them more money to spend, reducing poverty, and creating a fairer society. They argue that it could also make workers happier and more productive, and lead to less job turnover.\n",
    "\n",
    "On the other hand, critics worry that higher wages might lead to fewer jobs, as businesses might not be able to afford the extra costs. This could result in more automation and fewer opportunities for small and medium-sized businesses. They are concerned that this might hurt the economy in the long run.\n",
    "\n",
    "This research will explore both viewpoints by looking at how changes in the minimum wage affect things like consumer spending and unemployment in the Netherlands.\n",
    "\n",
    "# Authors\n",
    "- Anri Sagian\n",
    "- Tijger van den Dobbelsteen\n",
    "- Riko van 't Veer"
   ]
  }
 ],
 "metadata": {
  "kernelspec": {
   "display_name": "Python 3 (ipykernel)",
   "language": "python",
   "name": "python3"
  },
  "language_info": {
   "codemirror_mode": {
    "name": "ipython",
    "version": 3
   },
   "file_extension": ".py",
   "mimetype": "text/x-python",
   "name": "python",
   "nbconvert_exporter": "python",
   "pygments_lexer": "ipython3",
   "version": "3.10.14"
  },
  "widgets": {
   "application/vnd.jupyter.widget-state+json": {
    "state": {},
    "version_major": 2,
    "version_minor": 0
   }
  }
 },
 "nbformat": 4,
 "nbformat_minor": 4
}